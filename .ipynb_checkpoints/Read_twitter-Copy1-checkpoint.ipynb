{
 "cells": [
  {
   "cell_type": "code",
   "execution_count": 1,
   "metadata": {},
   "outputs": [],
   "source": [
    "import tweepy\n",
    "import json\n",
    "from timeit import default_timer as timer\n",
    "import time"
   ]
  },
  {
   "cell_type": "code",
   "execution_count": 2,
   "metadata": {},
   "outputs": [],
   "source": [
    "consumer_secret = 'fuohOf0ULWoxRUwSnKHdSkPQnOMfbcqUqnuTIuLHDfhVV4cgw9'\n",
    "consumer_key = 'njVxMqP5jTvgf9Gb5OtMX5LRb'\n",
    "access_token = '287606187-bqNC8diifHjH24SBLTVuifMraKJL4HP43t6FgkiJ'\n",
    "access_secret = 'CiRWVD8BWAXr8HSigudo6ZOhjT0zmRJZEkS1gDXWcgrdX'\n",
    "\n",
    "auth = tweepy.OAuthHandler(consumer_key, consumer_secret)\n",
    "auth.set_access_token(access_token, access_secret)\n",
    "\n",
    "api = tweepy.API(auth,wait_on_rate_limit=True,wait_on_rate_limit_notify=True)\n"
   ]
  },
  {
   "cell_type": "code",
   "execution_count": 4,
   "metadata": {},
   "outputs": [],
   "source": [
    "def read_twitter(tweet_ids):\n",
    "\n",
    "    counts = 0\n",
    "    start=timer()\n",
    "    with open('tweets_json.txt','w') as f:\n",
    "        for tweet_id in tweet_ids:\n",
    "            counts += 1\n",
    "            print(str(counts) + \": \" + str(tweet_id))\n",
    "            try:\n",
    "                tweet=api.get_status(tweet_id,tweet_mode='extended',)\n",
    "                print(\"succes\")\n",
    "                json.dump(tweet._json, f)\n",
    "                f.write('\\n')\n",
    "            except:\n",
    "                print(\"failed\")\n",
    "            time.sleep(0.5)\n",
    "    end = timer()\n",
    "    print(\"tijd {}\".start-end)\n"
   ]
  },
  {
   "cell_type": "code",
   "execution_count": null,
   "metadata": {},
   "outputs": [],
   "source": []
  }
 ],
 "metadata": {
  "kernelspec": {
   "display_name": "Python 3",
   "language": "python",
   "name": "python3"
  },
  "language_info": {
   "codemirror_mode": {
    "name": "ipython",
    "version": 3
   },
   "file_extension": ".py",
   "mimetype": "text/x-python",
   "name": "python",
   "nbconvert_exporter": "python",
   "pygments_lexer": "ipython3",
   "version": "3.7.9"
  }
 },
 "nbformat": 4,
 "nbformat_minor": 4
}
